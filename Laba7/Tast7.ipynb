{
 "cells": [
  {
   "cell_type": "markdown",
   "metadata": {
    "colab_type": "text",
    "id": "0dKG-0kcOvBa"
   },
   "source": [
    "# t-критерій Стьюдента для незалежних вибірок"
   ]
  },
  {
   "cell_type": "markdown",
   "metadata": {
    "colab_type": "text",
    "id": "cIlCjn4RO0Gr"
   },
   "source": [
    "##Теоретичні відомості"
   ]
  },
  {
   "cell_type": "markdown",
   "metadata": {
    "colab_type": "text",
    "id": "fIEmaRDC8EYQ"
   },
   "source": [
    "t-критерій Стьюдента для незалежних вибірок порівнює середні двох груп, щоб визначити, чи є статистичні достовірні докази того, що групи відрізняються. **Це параметричний тест.**\n"
   ]
  },
  {
   "cell_type": "markdown",
   "metadata": {
    "colab_type": "text",
    "id": "1COxk0l1O87G"
   },
   "source": [
    "### Область застосування"
   ]
  },
  {
   "cell_type": "markdown",
   "metadata": {
    "colab_type": "text",
    "id": "i2ExJ3XaPTr4"
   },
   "source": [
    "t-критерій Стьюдента для незалежних вибірок використовується для:\n",
    "\n",
    "* визначення статистичних відмінностей між середніми двох груп\n",
    "\n",
    "*Примітка.* Даний тест може порівнювати середні лише для двох (і лише двох) груп. Він не може проводити порівняння більш ніж двох груп. "
   ]
  },
  {
   "cell_type": "markdown",
   "metadata": {
    "colab_type": "text",
    "id": "dpLSZD4mPDMx"
   },
   "source": [
    "### Вимоги до даних"
   ]
  },
  {
   "cell_type": "markdown",
   "metadata": {
    "colab_type": "text",
    "id": "pta7ByUO8Yxc"
   },
   "source": [
    "Ваші дані повинні відповідати наступним вимогам:\n",
    "\n",
    "1. Залежна змінна є кількісною і безперервною.\n",
    "2. Незалежна змінна є категоріальною.\n",
    "3. Немає взаємозв'язку між випробуванями у групах. Це означає що:\n",
    "* суб'єкти в першій групі також не можуть бути у другій групі\n",
    "* жоден суб'єкт в будь-якій групі не може впливати на суб'єктів в іншій групі\n",
    "* жодна група не може впливати на іншу групу\n",
    "Порушення цього припущення дасть неточне значення p\n",
    "4. Вибірка даних є випадковою\n",
    "5. Нормальний розподіл залежної (кількісної) змінної для кожної групи\n",
    "* ненормальний розподіл значно знижує потужність (точність) тесту\n",
    "* при дослідженні великих груп порушення нормальності все ще може дати точні значення p\n",
    "6. Однорідність дисперсій. \n",
    "* коли це припущення порушено і розміри вибірки для кожної групи відрізняються, значення p не є надійним. В цьому випадку застосовують альтернативний тест, який назіваеться t тестом Велча. Даний тест ґрунтується на припущенні відмінних дисперсій сукупності. \n",
    "7. Дані не містять викидів. \n",
    "\n",
    "Дослідники також мають притримуватися кількох правил:\n",
    "\n",
    "* Кожна група повинна мати щонайменше 6 спостережень, в ідеалі більше. \n",
    "\n",
    "* Збалансований дизайн (тобто однакова кількість спостережень у кожній групі). Групи, що мають значну відмінність в об'ємі можуть змінити достовірність отриманих результатів."
   ]
  },
  {
   "cell_type": "markdown",
   "metadata": {
    "colab_type": "text",
    "id": "P7aeDpVjPF-Z"
   },
   "source": [
    "### Гіпотеза"
   ]
  },
  {
   "cell_type": "markdown",
   "metadata": {
    "colab_type": "text",
    "id": "EPfCMt59_oz0"
   },
   "source": [
    "Гіпотеза, яка перевіряєть даним тестом може бути виражена наступним чином:\n",
    "\n",
    "$H_0 : μ_1  = μ_2$ («середні двох незалежних груп рівні»)\n",
    "\n",
    "$H_1 : μ_1  ≠ μ_2$ («середні двох незалежних груп відмінні»)\n",
    "\n",
    "або:\n",
    "\n",
    "$H_0 : μ_1  - μ_2 = 0$ («різниця між середніми у незалежних групах за показником, що досліджується рівна 0»)\n",
    "\n",
    "$H_1 : μ_1 -  μ_2$ ≠ 0 $ («різниця між середніми у незалежних групах за показником, що досліджується не рівна 0»)\n",
    "\n",
    "Тут $μ_1$ - середнє значення змінної в першій групі; $μ_2$ - середнє значення змінної в першій групі."
   ]
  },
  {
   "cell_type": "markdown",
   "metadata": {
    "colab_type": "text",
    "id": "ZfYgprcrPLGZ"
   },
   "source": [
    "### Алгоритм розрахунку"
   ]
  },
  {
   "cell_type": "markdown",
   "metadata": {
    "colab_type": "text",
    "id": "Hrnm4szRAC3m"
   },
   "source": [
    "Зважаючи на те, що однією з вимог для використанная данного критерію є однорідність дисперсій перед проведенням t-критерію Стьюдента для незалежних вибірок необхідним є проведення тесту Лівеня.\n"
   ]
  },
  {
   "cell_type": "markdown",
   "metadata": {
    "colab_type": "text",
    "id": "akpPreH4AuW_"
   },
   "source": [
    "#### Тест Лівеня для перевірки рівності дисперсій"
   ]
  },
  {
   "cell_type": "markdown",
   "metadata": {
    "colab_type": "text",
    "id": "jKwhq22PA18u"
   },
   "source": [
    "Нульова гіпотеза для даного тесту визлядає наступним чином:\n",
    "\n",
    "$$H_0: \\sigma_1^2 = \\sigma_2^2$$\n",
    "\n",
    "Генеральні дисперсії оцінюються на основі вибірок, а сам критерій є відношенням однієї дисперсії до іншої:\n",
    "\n",
    "$$F = \\frac{\\sigma_1^2}{\\sigma_2^2}$$\n",
    "\n",
    "При цьому на практиці в чисельнику розміщують більшу дисперсію, і знаменник - меншу.\n",
    "\n",
    "Ступінь свободи для даного тесту розраховується окремо для кожної вибірки: \n",
    "\n",
    "$$df = n - 1 $$\n",
    "\n",
    "За допомогою [таблиці критичних значень](https://drive.google.com/open?id=128lJvGOp013TuMF5Tcfr5Q2AC7FFvXEl)  знаходимо критичне значення. Якщо розраховане значення більше критичного - нульову гіпотезу відхиляють та роблять висновок про статистичну відмінність дисперсій. В протилежному випадку приймають нульову гіпотезу.\n"
   ]
  },
  {
   "cell_type": "markdown",
   "metadata": {
    "colab_type": "text",
    "id": "nTmiY7f7HCFe"
   },
   "source": [
    "#### t критерій для незалежних вибірок"
   ]
  },
  {
   "cell_type": "markdown",
   "metadata": {
    "colab_type": "text",
    "id": "35LaS12fHKqY"
   },
   "source": [
    "1. В залежності від того, чи підтвердується гіпотеза про рівність дисперсій застосовують один з двох підходів до роозрахунку криетрію для незалежних вибірок.\n",
    "\n",
    "#### Припускається рівність дисперсій\n",
    "\n",
    "Розрахунок t-критерію за формулою:\n",
    "\n",
    "$$t = \\frac{|M_1 - M_2|}{\\sqrt{\\frac{\\sigma_1^2}{N_1}+\\frac{\\sigma_2^2}{N_2}}} $$\n",
    "\n",
    "#### Рівність дисперсій не доведено\n",
    "\n",
    "Розрахунок t-критерію за формулою:\n",
    "\n",
    "$$t = \\frac{|M_1 - M_2|}{\\sqrt{\\frac{(N_1 - 1)\\sigma_1^2 + (N_2 - 1)\\sigma_2^2}{N_1 + N_2 - 2}(\\frac{1}{N_1}+\\frac{1}{N_2})}} $$\n",
    "\n",
    "Для обох формул:\n",
    "\n",
    "$M_1, M_2$ - середньоарифметичне для двох груп\n",
    "\n",
    "$\\sigma_1, \\sigma_2$ - стандартне відхилення\n",
    "\n",
    "$N_1, N_2$ - кількість спостережень в вибірках\n",
    "\n",
    "\n",
    "2. Визначаємо ступінь свободи:\n",
    "\n",
    "$$ \\,df = N_1 + N_2 - 2 $$\n",
    "\n",
    "3. Визначаємо по [таблиці критичних значень t-Стьюдента](https://drive.google.com/open?id=12IEWx2mkE-2_jkMgkHwvUUlVfCcmH7Ub) критичне значення.\n",
    "\n",
    "Якщо розраховане значення більше критичного - нульову гіпотезу відхиляють та роблять висновок про статистичну відмінність середніх. В протилежному випадку приймають нульову гіпотезу.\n"
   ]
  },
  {
   "cell_type": "markdown",
   "metadata": {
    "colab_type": "text",
    "id": "Q4l7F1kePOoQ"
   },
   "source": [
    "# Завдання\n"
   ]
  },
  {
   "cell_type": "markdown",
   "metadata": {
    "colab_type": "text",
    "id": "dKlVUziSKf3v"
   },
   "source": [
    "# Завдання\n",
    "\n",
    "1. Обрати реальні дані з kaggle або сгенерувати випадкові дані. Дані мають відповідати вимогам викладеним вище. \n",
    "\n",
    "2. Побудувати графік, що відображає розкид даних в групах. Приклад:\n",
    "![alt text](https://s3.amazonaws.com/libapps/accounts/2515/images/spss_paired-t_example_boxplot.PNG)\n",
    "\n",
    "3. Написати функції:\n",
    "* для оцінки вімінностей дисперсій між групами за критерієм Лівеня. Функція має повертати значення тесту  та результат оцінки рівності дисперсій (significant або not significant).\n",
    "\n",
    "* для визначення відмінності між групами за критерієм Стьюдента в залежності від рівності/відмінності дисперсій. Функція має повертати значення критерію Стьюдента,значення ступеня свободи та результат оцінки значимості зв'зку (significant або not significant). \n",
    "\n",
    "4. Перевірити розбіжність на між групами на даних з п. 1. \n",
    "\n"
   ]
  },
  {
   "cell_type": "markdown",
   "metadata": {},
   "source": [
    "**1.** Обрати реальні дані з kaggle або сгенерувати випадкові дані. Дані мають відповідати вимогам викладеним вище. "
   ]
  },
  {
   "cell_type": "code",
   "execution_count": 1,
   "metadata": {},
   "outputs": [
    {
     "data": {
      "text/html": [
       "<div>\n",
       "<style scoped>\n",
       "    .dataframe tbody tr th:only-of-type {\n",
       "        vertical-align: middle;\n",
       "    }\n",
       "\n",
       "    .dataframe tbody tr th {\n",
       "        vertical-align: top;\n",
       "    }\n",
       "\n",
       "    .dataframe thead th {\n",
       "        text-align: right;\n",
       "    }\n",
       "</style>\n",
       "<table border=\"1\" class=\"dataframe\">\n",
       "  <thead>\n",
       "    <tr style=\"text-align: right;\">\n",
       "      <th>Средний балл студентов</th>\n",
       "      <th>1 аттестация</th>\n",
       "      <th>2 аттестация</th>\n",
       "    </tr>\n",
       "    <tr>\n",
       "      <th>№ студента</th>\n",
       "      <th></th>\n",
       "      <th></th>\n",
       "    </tr>\n",
       "  </thead>\n",
       "  <tbody>\n",
       "    <tr>\n",
       "      <th>1</th>\n",
       "      <td>14.3</td>\n",
       "      <td>9.6</td>\n",
       "    </tr>\n",
       "    <tr>\n",
       "      <th>2</th>\n",
       "      <td>16.4</td>\n",
       "      <td>8.1</td>\n",
       "    </tr>\n",
       "    <tr>\n",
       "      <th>3</th>\n",
       "      <td>13.1</td>\n",
       "      <td>8.8</td>\n",
       "    </tr>\n",
       "    <tr>\n",
       "      <th>4</th>\n",
       "      <td>19.7</td>\n",
       "      <td>7.9</td>\n",
       "    </tr>\n",
       "    <tr>\n",
       "      <th>5</th>\n",
       "      <td>11.5</td>\n",
       "      <td>9.2</td>\n",
       "    </tr>\n",
       "    <tr>\n",
       "      <th>6</th>\n",
       "      <td>13.8</td>\n",
       "      <td>8.0</td>\n",
       "    </tr>\n",
       "    <tr>\n",
       "      <th>7</th>\n",
       "      <td>10.3</td>\n",
       "      <td>8.4</td>\n",
       "    </tr>\n",
       "    <tr>\n",
       "      <th>8</th>\n",
       "      <td>6.9</td>\n",
       "      <td>10.1</td>\n",
       "    </tr>\n",
       "    <tr>\n",
       "      <th>9</th>\n",
       "      <td>20.5</td>\n",
       "      <td>7.8</td>\n",
       "    </tr>\n",
       "    <tr>\n",
       "      <th>10</th>\n",
       "      <td>17.4</td>\n",
       "      <td>8.1</td>\n",
       "    </tr>\n",
       "  </tbody>\n",
       "</table>\n",
       "</div>"
      ],
      "text/plain": [
       "Средний балл студентов  1 аттестация  2 аттестация\n",
       "№ студента                                        \n",
       "1                               14.3           9.6\n",
       "2                               16.4           8.1\n",
       "3                               13.1           8.8\n",
       "4                               19.7           7.9\n",
       "5                               11.5           9.2\n",
       "6                               13.8           8.0\n",
       "7                               10.3           8.4\n",
       "8                                6.9          10.1\n",
       "9                               20.5           7.8\n",
       "10                              17.4           8.1"
      ]
     },
     "execution_count": 1,
     "metadata": {},
     "output_type": "execute_result"
    }
   ],
   "source": [
    "import scipy.stats as ss\n",
    "import numpy as np\n",
    "import pandas as pd\n",
    "import math\n",
    "import matplotlib.pyplot as plt\n",
    "import seaborn as sns \n",
    "\n",
    "tab1 = [14.3, 16.4, 13.1, 19.7, 11.5, 13.8, 10.3, 6.9, 20.5, 17.4]\n",
    "tab2 = [9.6, 8.1, 8.8, 7.9, 9.2, 8.0, 8.4, 10.1, 7.8, 8.1]\n",
    "df = pd.DataFrame({\n",
    "    '1 аттестация': tab1,\n",
    "    '2 аттестация': tab2}, \n",
    "    index=np.arange(1, len(tab1) + 1))\n",
    "\n",
    "df.columns.name = 'Средний балл студентов'\n",
    "df.index.name = '№ студента'\n",
    "df"
   ]
  },
  {
   "cell_type": "markdown",
   "metadata": {},
   "source": [
    "**2.** Побудувати графік, що відображає розкид даних в групах. Приклад:\n",
    "![alt text](https://s3.amazonaws.com/libapps/accounts/2515/images/spss_paired-t_example_boxplot.PNG)"
   ]
  },
  {
   "cell_type": "code",
   "execution_count": 3,
   "metadata": {},
   "outputs": [
    {
     "data": {
      "text/plain": [
       "[]"
      ]
     },
     "execution_count": 3,
     "metadata": {},
     "output_type": "execute_result"
    },
    {
     "data": {
      "image/png": "[encoded data removed]",
      "text/plain": [
       "<Figure size 432x288 with 1 Axes>"
      ]
     },
     "metadata": {
      "needs_background": "light"
     },
     "output_type": "display_data"
    }
   ],
   "source": [
    "sns.boxplot(data=df, orient='h', palette='pink').set()"
   ]
  },
  {
   "cell_type": "markdown",
   "metadata": {},
   "source": [
    "**3.** Написати функції:\n",
    "* для оцінки вімінностей дисперсій між групами за критерієм Лівеня. Функція має повертати значення тесту  та результат оцінки рівності дисперсій (significant або not significant)."
   ]
  },
  {
   "cell_type": "code",
   "execution_count": 4,
   "metadata": {},
   "outputs": [],
   "source": [
    "def sd(mass,n):\n",
    "    s = 0\n",
    "    mean = (sum(mass)) / n\n",
    "    \n",
    "    for i in range (n):\n",
    "        s += ((mass[i] - mean))**2\n",
    "        \n",
    "    return s / (n - 1)\n",
    "\n",
    "def livenia(x,y):\n",
    "    n = len(x)\n",
    "    m = len(y)\n",
    "    s1 = sd(x,n)\n",
    "    s2 = sd(y,m)\n",
    "\n",
    "    if s1 > s2:\n",
    "        f = s1 / s2\n",
    "    \n",
    "    else:\n",
    "        f = s2 / s1\n",
    "    \n",
    "    print('Значення критерію Лівеня : F = ' + str(f))\n",
    "    \n",
    "    df1 = n - 1\n",
    "    df2 = m - 1\n",
    "    \n",
    "    print('Значення ступенів свободи: df1 = ' + str(df1) + \"; df2 = \" + str(df2))\n",
    "    \n",
    "    tab = pd.read_excel(\"Таблиця критичних значень для критерію Лівеня.xlsx\").iloc[df1,df2]\n",
    "    \n",
    "    print(\"Критичне значення критерію Лівеня = \" + str(tab))\n",
    "    \n",
    "    if f < tab:\n",
    "        result = \"Оскільки значення критерію Лівеня менше, ніж його критичне значення (\" + str(f) +\" < \" + str(tab) + \"), то результат оцінки значимості зв'зку - not significant\"\n",
    "    \n",
    "    else:\n",
    "        result = \"Оскільки значення критерію Лівеня більше, ніж його критичне значення (\" + str(f) +\" > \" + str(tab) + \"), то результат оцінки значимості зв'зку -  significant\"\n",
    "    \n",
    "    return result"
   ]
  },
  {
   "cell_type": "markdown",
   "metadata": {},
   "source": [
    "* для визначення відмінності між групами за критерієм Стьюдента в залежності від рівності/відмінності дисперсій. Функція має повертати значення критерію Стьюдента,значення ступеня свободи та результат оцінки значимості зв'зку (significant або not significant)."
   ]
  },
  {
   "cell_type": "code",
   "execution_count": 5,
   "metadata": {},
   "outputs": [],
   "source": [
    "def t_criterion(x, y, val):\n",
    "    if val == \"significant\":\n",
    "        n = len(x)\n",
    "        m = len(y)\n",
    "        s1 = sd(x,n)\n",
    "        s2 = sd(y,m)\n",
    "        m1 = sum(x) / n\n",
    "        m2 = sum(y) / n\n",
    "        df = n + m - 2\n",
    "        t = (abs(m1 - m2)) / (math.sqrt((s1 / n) + (s2 / m)))\n",
    "        \n",
    "    elif val == \"not significant\":\n",
    "        n = len(x)\n",
    "        m = len(y)\n",
    "        s1 = sd(x,n)\n",
    "        s2 = sd(y,m)\n",
    "        m1 = sum(x) / n\n",
    "        m2 = sum(y) / n\n",
    "        df1 = n - 1\n",
    "        df2 = m - 1\n",
    "        df = n + m - 2\n",
    "        k = (1 / n) + (1 / m)\n",
    "        t = (abs(m1 - m2)) / (math.sqrt(((df1 * s1 + df2 * s2) / df) * k))\n",
    "        \n",
    "    else:\n",
    "        return \"ERROR\"\n",
    "    \n",
    "    print('Значення критерію Стьюдента: t = ' + str(t))\n",
    "    print('Значення ступеня свободи: df = ' + str(df))\n",
    "    \n",
    "    tab = pd.read_excel(\"Таблиця критичних значень для критерію Стьюдента.xlsx\").iloc[df - 1,1]\n",
    "    \n",
    "    print(\"Критичне значення критерію Стьюдента = \" + str(tab))\n",
    "    \n",
    "    if t < tab:\n",
    "        result = \"Оскільки значення критерію Стьюдента менше, ніж його критичне значення (\" + str(t) +\" < \" + str(tab) + \"), то результат оцінки значимості зв'зку - significant\"\n",
    "    \n",
    "    else:\n",
    "        result = \"Оскільки значення критерію Стьюдента більше, ніж його критичне значення (\" + str(t) +\" > \" + str(tab) + \"), то результат оцінки значимості зв'зку -  not significant\"\n",
    "    \n",
    "    return result"
   ]
  },
  {
   "cell_type": "markdown",
   "metadata": {},
   "source": [
    "**4.** Перевірити розбіжність на між групами на даних з п. 1. "
   ]
  },
  {
   "cell_type": "code",
   "execution_count": 6,
   "metadata": {},
   "outputs": [
    {
     "name": "stdout",
     "output_type": "stream",
     "text": [
      "Значення критерію Лівеня : F = 28.491021126760568\n",
      "Значення ступенів свободи: df1 = 9; df2 = 9\n",
      "Критичне значення критерію Лівеня = 3.18\n"
     ]
    },
    {
     "data": {
      "text/plain": [
       "\"Оскільки значення критерію Лівеня більше, ніж його критичне значення (28.491021126760568 > 3.18), то результат оцінки значимості зв'зку -  significant\""
      ]
     },
     "execution_count": 6,
     "metadata": {},
     "output_type": "execute_result"
    }
   ],
   "source": [
    "livenia(table1,table2)"
   ]
  },
  {
   "cell_type": "code",
   "execution_count": 7,
   "metadata": {},
   "outputs": [
    {
     "name": "stdout",
     "output_type": "stream",
     "text": [
      "Значення критерію Стьюдента: t = 4.244052479149272\n",
      "Значення ступеня свободи: df = 18\n",
      "Критичне значення критерію Стьюдента = 2.101\n"
     ]
    },
    {
     "data": {
      "text/plain": [
       "\"Оскільки значення критерію Стьюдента більше, ніж його критичне значення (4.244052479149272 > 2.101), то результат оцінки значимості зв'зку -  not significant\""
      ]
     },
     "execution_count": 7,
     "metadata": {},
     "output_type": "execute_result"
    }
   ],
   "source": [
    "t_criterion(table1,table2,\"significant\")"
   ]
  }
 ],
 "metadata": {
  "colab": {
   "authorship_tag": "ABX9TyN+ogRjA4zijScFngnncBiH",
   "collapsed_sections": [],
   "name": "Tast7.ipynb",
   "provenance": []
  },
  "kernelspec": {
   "display_name": "Python 3",
   "language": "python",
   "name": "python3"
  },
  "language_info": {
   "codemirror_mode": {
    "name": "ipython",
    "version": 3
   },
   "file_extension": ".py",
   "mimetype": "text/x-python",
   "name": "python",
   "nbconvert_exporter": "python",
   "pygments_lexer": "ipython3",
   "version": "3.7.4"
  }
 },
 "nbformat": 4,
 "nbformat_minor": 1
}
