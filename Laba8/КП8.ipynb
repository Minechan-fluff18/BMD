{
 "cells": [
  {
   "cell_type": "markdown",
   "metadata": {
    "colab_type": "text",
    "id": "weuwGEo2mJBC"
   },
   "source": [
    "# Дисперсійний аналіз"
   ]
  },
  {
   "cell_type": "markdown",
   "metadata": {
    "colab_type": "text",
    "id": "ZUzN4OAhmxkD"
   },
   "source": [
    "## Теоретичні відомості"
   ]
  },
  {
   "cell_type": "markdown",
   "metadata": {
    "colab_type": "text",
    "id": "GCJ4px_JmMeY"
   },
   "source": [
    "**Дисперсійний аналіз** - статистичний метод дослідження взаємозв'язку. Застосовується для аналізу впливу якісної змінної  на одну залежну (кількісну) змінну.\n",
    "В основі дисперсійного аналізу лежить припущення, що одні змінні можливо розглядати як причини (незалежні змінні), інші - як наслідки (залежні змінні). Незалежні змінні в дисперсійному аналізі називають факторами.\n",
    " У зарубіжній літературі дисперсійний аналіз часто обозначається як ANOVA, що переводиться як аналіз варіативності (Analysis of Variance).\n",
    "\n",
    "Дисперсійний аналіз - параметричний метод.\n",
    "\n",
    "\n"
   ]
  },
  {
   "cell_type": "markdown",
   "metadata": {
    "colab_type": "text",
    "id": "t1MGzbZKm0QY"
   },
   "source": [
    "### Область застосування"
   ]
  },
  {
   "cell_type": "markdown",
   "metadata": {
    "colab_type": "text",
    "id": "u6P7khWWm16u"
   },
   "source": [
    "ANOVA використовують для визначення статистичних відмінностей у *середніх* значення двох або більше групп."
   ]
  },
  {
   "cell_type": "markdown",
   "metadata": {
    "colab_type": "text",
    "id": "LOW2EJNpm5oi"
   },
   "source": [
    "### Вимоги до даних"
   ]
  },
  {
   "cell_type": "markdown",
   "metadata": {
    "colab_type": "text",
    "id": "ldtCTT-2m6tf"
   },
   "source": [
    "Ваші дані повинні відповідати наступним вимогам:\n",
    "1. Залежна змінна має бути безперервною (кількісною).\n",
    "2. Незалежна змінна має бути категоріальною (містити дві або більше груп).\n",
    "3. Групи є незалежними.\n",
    "4. Залежна змінна має нормальний розподіл.\n",
    "5. Однорідність дисперсій. Групи мають приблизно однакові дисперсії.\n",
    "6. Залежна змінна не містить викидів.\n",
    "7. Кожна група має містити принаймні 6 спостережень.\n",
    "8. Сбалансований дизайн. В ідеалі, групи мають бути однаковими за розміром.\n"
   ]
  },
  {
   "cell_type": "markdown",
   "metadata": {
    "colab_type": "text",
    "id": "zcDHzLIZm6_R"
   },
   "source": [
    "### Гіпотеза"
   ]
  },
  {
   "cell_type": "markdown",
   "metadata": {
    "colab_type": "text",
    "id": "pYFVPpI6m899"
   },
   "source": [
    "Гіпотеза, яка перевіряєть даним тестом може бути виражена наступним чином:\n",
    "\n",
    "$H_0 : μ_1  = μ_2 = ... =  μ_n $ («середні  незалежних груп рівні»)\n",
    "\n",
    "$H_1 : μ_1  ≠ μ_2 ≠ ... ≠ μ_n$ («середні  незалежних груп відмінні»)"
   ]
  },
  {
   "cell_type": "markdown",
   "metadata": {
    "colab_type": "text",
    "id": "zo71OMQ6m9HF"
   },
   "source": [
    "### Алгоритм розрахунку"
   ]
  },
  {
   "cell_type": "markdown",
   "metadata": {
    "colab_type": "text",
    "id": "XWDrm4xAnDiE"
   },
   "source": [
    "Припустимо, що є три незалежні групи кожна з яких пройшла тест на запам'ятовування 10 слів. Першій групі слова демонструвалися з низькою швидкістю - 1 слово в 5 секунд, другій  з середньою швидкістю - 1 слово в 2 секунди, і третій групі з великою швидкістю - 1 слово в секунду.\n",
    "\n",
    "Прикладом задачі, яка вирішується методом дисперсійного аналізу є аналіз впливу швидкості демонстрації слів на результат тесту. \n",
    "\n",
    "n  | Група 1 (низька швидкість) | Група 2 (середня швидкість) | Група 3 (висока швидкість) |\n",
    "------------- | ------------- |--------- | ------------- | \n",
    "1  | 8   | 7   | 4   | \n",
    "2  | 7   | 8   |5   | \n",
    "3  | 9   | 5   |3   |\n",
    "4  | 5   | 4   |6   | \n",
    "5  | 6  | 6   |2  |  \n",
    "6  | 8   | 7  |4  | \n",
    "Сума  | 43   | 37  |24   |\n",
    "Середні  | 7,17   | 3,17   |4  | \n",
    "\n",
    "Загальна сума - 104\n",
    "\n",
    "Основні величини для однофакторного дисперсійного аналізу:\n",
    "1. $T_c$, cуми індивідуальних значень по кожнії з груп: 43, 37, 24.\n",
    "2. $\\sum{T^2_c}$,  cума квадратів сумарних значень по кожній з груп: $43^2 +  37^2 + 24^2 = 3794$\n",
    "3. $c$, кількість умов (градацій фактора/ груп): 3\n",
    "4. $n$, кількість досліджень в групах: 6, 6, 6.\n",
    "5. $N$, загальна кількість досліджень: 18.\n",
    "6. $(\\sum{x_i})^2$, квадрат загальної суми індивідуальних значень: 10 816\n",
    "7. $\\frac{(\\sum{x_i})^2}{N}$,Константа, яку потрібно відняти від кожної суми квадратів:  600,9\n",
    "8. $x_i$, індивідуальне значення\n",
    "9. $\\sum({x_i}^2)$, сума квадратів індивідуальних значень.\n",
    "\n",
    "\n",
    "Тоді, послідовність операцій в однофакторному дисперсійному аналізі виглядає наступним чином:\n",
    "1. Розрахувати внутрішньогрупову дисперсію ($SS_{факт}$).\n",
    "\n",
    "$$ SS_{факт}  = \\frac{\\sum{T^2_c}}{n} - \\frac{(\\sum{x_i})^2}{N} = \\frac{3794}{6} - \\frac{10 816}{18} = 31,44$$\n",
    "\n",
    "2. Розрахувати загальногрупову дисперсію ($SS_{заг}$).\n",
    "$$ SS_{заг} = \\sum({x_i}^2) - \\frac{(\\sum{x_i})^2}{N} =  8^2+7^2+9^2+5^2+6^2+8^2+7^2+7^2+8^2+5^2+ 4^2+ 6^2+ 7^2+ 4^2+ 5^2+ 3^2+ 6^2+ 2^2+ 4^2 - \\frac{104^2}{18} = 63,11$$\n",
    "\n",
    "3. Розрахувати випадкову (залишкову) величину $SS_{вип}$\n",
    "$$ SS_{вип} = SS_{заг} - SS_{факт} = 63,11 -31,44 = 31,67 $$\n",
    "\n",
    "4. Визначити кількість ступенів свободи:\n",
    "$$d_{факт} = c - 1 = 3 - 1 = 2$$\n",
    "$$d_{заг} = N - 1 = 18 - 1 = 17$$\n",
    "$$d_{вип} = d_{заг} - d_{факт} = 17 - 2 = 15$$\n",
    "\n",
    "5. Розділити кожну SS на відповідне число ступенів свободи:\n",
    "$$MS_{факт} = \\frac{SS_{факт}}{d_{факт}} = \\frac{31,44}{2} = 15,72$$\n",
    "$$MS_{вип} = \\frac{SS_{вип}}{d_{вип}} = \\frac{31,67}{15} = 2,11$$\n",
    "\n",
    "6. Розрахувати значення $F_{емпір}$\n",
    "$$ F_{емпір} = \\frac{MS_{факт}}{MS_{вип}} = \\frac{15,72}{2,11} = 7,45 $$\n",
    "\n",
    "7. Визначити критичне значення F по таблиці критичних значень: \n",
    "\n",
    "$$F_{крит(2,15)} = 3,7 $$\n",
    "\n",
    "8. Співставити емпіричне та критичне значення F.\n",
    "\n",
    "При $F_{емпір} \\geq F_{крит(2,15)}$ нульова гіпотеза про рівність середніх відхиляється.\n",
    "\n",
    "$$7,45 > 3,7$$ - рівність середніх не підтверджена.\n"
   ]
  },
  {
   "cell_type": "markdown",
   "metadata": {
    "colab_type": "text",
    "id": "9qiU_OebnDpv"
   },
   "source": [
    "### Завдання"
   ]
  },
  {
   "cell_type": "markdown",
   "metadata": {
    "colab_type": "text",
    "id": "NlTSSN6x6yTz"
   },
   "source": [
    "1. Розрахувати та вивести у вигляді таблиці статистичні характиристики даних (середні та стандартні відхилення для кожної з груп).\n",
    "2. Побудувати графік розкиду в групах.\n",
    "3. Побудувати функцію, що реалізовує однофакторний дисперсійний аналіз.\n",
    "4. Вивести результати розрахунку кожного з етапів вказаних вище у вигляді таблиці.\n",
    "5. Перевірити результат роботи функції на реальних або сгенерованих даних. Зробити висновок."
   ]
  },
  {
   "cell_type": "markdown",
   "metadata": {},
   "source": [
    "### Розв'язання"
   ]
  },
  {
   "cell_type": "code",
   "execution_count": 1,
   "metadata": {},
   "outputs": [],
   "source": [
    "import scipy.stats as ss\n",
    "import numpy as np\n",
    "import pandas as pd\n",
    "import math\n",
    "import matplotlib.pyplot as plt\n",
    "import seaborn as sns"
   ]
  },
  {
   "cell_type": "code",
   "execution_count": 2,
   "metadata": {
    "scrolled": true
   },
   "outputs": [
    {
     "data": {
      "text/html": [
       "<div>\n",
       "<style scoped>\n",
       "    .dataframe tbody tr th:only-of-type {\n",
       "        vertical-align: middle;\n",
       "    }\n",
       "\n",
       "    .dataframe tbody tr th {\n",
       "        vertical-align: top;\n",
       "    }\n",
       "\n",
       "    .dataframe thead th {\n",
       "        text-align: right;\n",
       "    }\n",
       "</style>\n",
       "<table border=\"1\" class=\"dataframe\">\n",
       "  <thead>\n",
       "    <tr style=\"text-align: right;\">\n",
       "      <th>Акаунт</th>\n",
       "      <th>1 - к-сть підписників</th>\n",
       "      <th>2 - к-сть відписників</th>\n",
       "      <th>3 - к-сть відвідувачів</th>\n",
       "    </tr>\n",
       "    <tr>\n",
       "      <th>Тиждень</th>\n",
       "      <th></th>\n",
       "      <th></th>\n",
       "      <th></th>\n",
       "    </tr>\n",
       "  </thead>\n",
       "  <tbody>\n",
       "    <tr>\n",
       "      <th>1</th>\n",
       "      <td>53</td>\n",
       "      <td>30</td>\n",
       "      <td>94</td>\n",
       "    </tr>\n",
       "    <tr>\n",
       "      <th>2</th>\n",
       "      <td>17</td>\n",
       "      <td>6</td>\n",
       "      <td>60</td>\n",
       "    </tr>\n",
       "    <tr>\n",
       "      <th>3</th>\n",
       "      <td>16</td>\n",
       "      <td>17</td>\n",
       "      <td>100</td>\n",
       "    </tr>\n",
       "    <tr>\n",
       "      <th>4</th>\n",
       "      <td>83</td>\n",
       "      <td>10</td>\n",
       "      <td>41</td>\n",
       "    </tr>\n",
       "    <tr>\n",
       "      <th>5</th>\n",
       "      <td>95</td>\n",
       "      <td>22</td>\n",
       "      <td>93</td>\n",
       "    </tr>\n",
       "    <tr>\n",
       "      <th>6</th>\n",
       "      <td>12</td>\n",
       "      <td>17</td>\n",
       "      <td>68</td>\n",
       "    </tr>\n",
       "    <tr>\n",
       "      <th>7</th>\n",
       "      <td>72</td>\n",
       "      <td>15</td>\n",
       "      <td>88</td>\n",
       "    </tr>\n",
       "  </tbody>\n",
       "</table>\n",
       "</div>"
      ],
      "text/plain": [
       "Акаунт   1 - к-сть підписників  2 - к-сть відписників  3 - к-сть відвідувачів\n",
       "Тиждень                                                                      \n",
       "1                           53                     30                      94\n",
       "2                           17                      6                      60\n",
       "3                           16                     17                     100\n",
       "4                           83                     10                      41\n",
       "5                           95                     22                      93\n",
       "6                           12                     17                      68\n",
       "7                           72                     15                      88"
      ]
     },
     "execution_count": 2,
     "metadata": {},
     "output_type": "execute_result"
    }
   ],
   "source": [
    "table1 = [53, 17, 16, 83, 95, 12, 72] \n",
    "table2 = [30, 6, 17, 10, 22, 17, 15]\n",
    "table3 = [94, 60, 100, 41, 93, 68, 88]\n",
    "\n",
    "dataset = pd.DataFrame({\n",
    "    \"1 - к-сть підписників\": table1,\n",
    "    \"2 - к-сть відписників\": table2,\n",
    "    \"3 - к-сть відвідувачів\": table3\n",
    "}, index = np.arange(1, len(table1)+1))\n",
    "\n",
    "dataset.columns.name = \"Акаунт\"\n",
    "dataset.index.name = \"Тиждень\"\n",
    "\n",
    "dataset"
   ]
  },
  {
   "cell_type": "markdown",
   "metadata": {},
   "source": [
    "1. Розрахувати та вивести у вигляді таблиці статистичні характиристики даних (середні та стандартні відхилення для кожної з груп)."
   ]
  },
  {
   "cell_type": "code",
   "execution_count": 5,
   "metadata": {},
   "outputs": [
    {
     "data": {
      "text/html": [
       "<div>\n",
       "<style scoped>\n",
       "    .dataframe tbody tr th:only-of-type {\n",
       "        vertical-align: middle;\n",
       "    }\n",
       "\n",
       "    .dataframe tbody tr th {\n",
       "        vertical-align: top;\n",
       "    }\n",
       "\n",
       "    .dataframe thead th {\n",
       "        text-align: right;\n",
       "    }\n",
       "</style>\n",
       "<table border=\"1\" class=\"dataframe\">\n",
       "  <thead>\n",
       "    <tr style=\"text-align: right;\">\n",
       "      <th>Акаунт</th>\n",
       "      <th>1 - к-сть підписників</th>\n",
       "      <th>2 - к-сть відписників</th>\n",
       "      <th>3 - к-сть відвідувачів</th>\n",
       "    </tr>\n",
       "    <tr>\n",
       "      <th>Тиждень</th>\n",
       "      <th></th>\n",
       "      <th></th>\n",
       "      <th></th>\n",
       "    </tr>\n",
       "  </thead>\n",
       "  <tbody>\n",
       "    <tr>\n",
       "      <th>1</th>\n",
       "      <td>53.00</td>\n",
       "      <td>30.00</td>\n",
       "      <td>94.00</td>\n",
       "    </tr>\n",
       "    <tr>\n",
       "      <th>2</th>\n",
       "      <td>17.00</td>\n",
       "      <td>6.00</td>\n",
       "      <td>60.00</td>\n",
       "    </tr>\n",
       "    <tr>\n",
       "      <th>3</th>\n",
       "      <td>16.00</td>\n",
       "      <td>17.00</td>\n",
       "      <td>100.00</td>\n",
       "    </tr>\n",
       "    <tr>\n",
       "      <th>4</th>\n",
       "      <td>83.00</td>\n",
       "      <td>10.00</td>\n",
       "      <td>41.00</td>\n",
       "    </tr>\n",
       "    <tr>\n",
       "      <th>5</th>\n",
       "      <td>95.00</td>\n",
       "      <td>22.00</td>\n",
       "      <td>93.00</td>\n",
       "    </tr>\n",
       "    <tr>\n",
       "      <th>6</th>\n",
       "      <td>12.00</td>\n",
       "      <td>17.00</td>\n",
       "      <td>68.00</td>\n",
       "    </tr>\n",
       "    <tr>\n",
       "      <th>7</th>\n",
       "      <td>72.00</td>\n",
       "      <td>15.00</td>\n",
       "      <td>88.00</td>\n",
       "    </tr>\n",
       "    <tr>\n",
       "      <th>Середнє:</th>\n",
       "      <td>49.71</td>\n",
       "      <td>16.71</td>\n",
       "      <td>77.71</td>\n",
       "    </tr>\n",
       "    <tr>\n",
       "      <th>Стандартне відхилення:</th>\n",
       "      <td>34.87</td>\n",
       "      <td>7.83</td>\n",
       "      <td>21.82</td>\n",
       "    </tr>\n",
       "  </tbody>\n",
       "</table>\n",
       "</div>"
      ],
      "text/plain": [
       "Акаунт                  1 - к-сть підписників  2 - к-сть відписників  \\\n",
       "Тиждень                                                                \n",
       "1                                       53.00                  30.00   \n",
       "2                                       17.00                   6.00   \n",
       "3                                       16.00                  17.00   \n",
       "4                                       83.00                  10.00   \n",
       "5                                       95.00                  22.00   \n",
       "6                                       12.00                  17.00   \n",
       "7                                       72.00                  15.00   \n",
       "Середнє:                                49.71                  16.71   \n",
       "Стандартне відхилення:                  34.87                   7.83   \n",
       "\n",
       "Акаунт                  3 - к-сть відвідувачів  \n",
       "Тиждень                                         \n",
       "1                                        94.00  \n",
       "2                                        60.00  \n",
       "3                                       100.00  \n",
       "4                                        41.00  \n",
       "5                                        93.00  \n",
       "6                                        68.00  \n",
       "7                                        88.00  \n",
       "Середнє:                                 77.71  \n",
       "Стандартне відхилення:                   21.82  "
      ]
     },
     "execution_count": 5,
     "metadata": {},
     "output_type": "execute_result"
    }
   ],
   "source": [
    "summa1=round((sum(table1)/len(table1)),2)\n",
    "summa2=round((sum(table2)/len(table2)),2)\n",
    "summa3=round((sum(table3)/len(table3)),2)\n",
    "\n",
    "sd1=round((dataset[\"1 - к-сть підписників\"].std()),2)\n",
    "sd2=round((dataset[\"2 - к-сть відписників\"].std()),2)\n",
    "sd3=round((dataset[\"3 - к-сть відвідувачів\"].std()),2)\n",
    "\n",
    "\n",
    "new_dataset = pd.DataFrame({\n",
    "    \"1 - к-сть підписників\": table1,\n",
    "    \"2 - к-сть відписників\": table2,\n",
    "    \"3 - к-сть відвідувачів\": table3\n",
    "}, index = np.arange(1, len(table1)+1))\n",
    "\n",
    "new_dataset.columns.name = \"Акаунт\"\n",
    "new_dataset.index.name = \"Тиждень\"\n",
    "\n",
    "\n",
    "new_dataset.loc[\"Середнє:\"] = [summa1, summa2, summa3]\n",
    "new_dataset.loc[\"Стандартне відхилення:\"] = [sd1,sd2,sd3]\n",
    "\n",
    "new_dataset"
   ]
  },
  {
   "cell_type": "markdown",
   "metadata": {},
   "source": [
    "2. Побудувати графік розкиду в групах."
   ]
  },
  {
   "cell_type": "code",
   "execution_count": 6,
   "metadata": {},
   "outputs": [
    {
     "data": {
      "text/plain": [
       "[]"
      ]
     },
     "execution_count": 6,
     "metadata": {},
     "output_type": "execute_result"
    },
    {
     "data": {
      "image/png": "[encoded data removed]",
      "text/plain": [
       "<Figure size 432x288 with 1 Axes>"
      ]
     },
     "metadata": {
      "needs_background": "light"
     },
     "output_type": "display_data"
    }
   ],
   "source": [
    "sns.boxplot(data=dataset, orient='h', palette='pink').set()"
   ]
  },
  {
   "cell_type": "markdown",
   "metadata": {},
   "source": [
    "3. Побудувати функцію, що реалізовує однофакторний дисперсійний аналіз.\n",
    "4. Вивести результати розрахунку кожного з етапів вказаних вище у вигляді таблиці."
   ]
  },
  {
   "cell_type": "code",
   "execution_count": 17,
   "metadata": {},
   "outputs": [],
   "source": [
    "def dispersia(inf):\n",
    "    c = (len(inf.iloc[0,:]))\n",
    "    Tc = 0\n",
    "    Tc2 = 0\n",
    "    \n",
    "    for i in range (c):\n",
    "        Tc = sum(inf.iloc[:,i])\n",
    "        Tc2+=(Tc)**2\n",
    "        \n",
    "    n = 0\n",
    "    N = 0\n",
    "    \n",
    "    for i in range(c):\n",
    "        n = len(inf.iloc[:,i])\n",
    "        N += n\n",
    "        \n",
    "    summ2 = 0\n",
    "    T = 0\n",
    "    \n",
    "    for i in range (c):\n",
    "        T = sum(inf.iloc[:,i])\n",
    "        summ2 += T\n",
    "        \n",
    "    summ2 = (summ2)**2\n",
    "    summ1 = 0\n",
    "    \n",
    "    for i in range (c):\n",
    "        for j in range(len(inf.iloc[:,i-1])):\n",
    "            summ1 += (inf.iloc[j][i])**2\n",
    "                      \n",
    "    konst = summ2 / N\n",
    "    SSfact = (Tc2 / n) - konst\n",
    "    SSzag = summ1 - ((summ2) / N)\n",
    "    SSvip = SSzag - SSfact\n",
    "    dfact = c - 1\n",
    "    dzag = N - 1\n",
    "    dvip = dzag - dfact\n",
    "    MSfact = SSfact / dfact\n",
    "    MSvip = SSvip / dvip\n",
    "    Femp = MSfact / MSvip\n",
    "    \n",
    "    if((26 < (dvip) and (dvip) <= 28)):\n",
    "        dvip = 26\n",
    "        \n",
    "    elif((28 < (dvip) and (dvip) <= 30)):\n",
    "        dvip = 27\n",
    "        \n",
    "    elif((dvip) > 30 and (dvip) <= 40):\n",
    "        dvip = 28\n",
    "        \n",
    "    elif((dvip) > 40 and (dvip) <= 60):\n",
    "        dvip = 29\n",
    "        \n",
    "    elif((dvip) > 60 and (dvip) <= 120):\n",
    "        dvip = 30\n",
    "        \n",
    "    elif((dvip) > 120):\n",
    "        dvip = 31\n",
    "        \n",
    "    else:\n",
    "        dvip = dvip\n",
    "        \n",
    "    if(10 < n and n <= 15):\n",
    "        dfact = 11\n",
    "        \n",
    "    elif(15 < n and n <= 20):\n",
    "        dfact = 12\n",
    "        \n",
    "    elif(20 < n and n <= 30):\n",
    "        dfact = 13\n",
    "        \n",
    "    elif(n > 30):\n",
    "        dfact = 14\n",
    "\n",
    "    else:\n",
    "        dfact = c - 1\n",
    "        \n",
    "    Fkrit = pd.read_excel(\"Таблиця критичних значень для критерію Фішера.xlsx\").iloc[dvip,dfact]  \n",
    "    \n",
    "    if(Femp >= Fkrit):\n",
    "        print(\"Pівність середніх не підтверджена\")\n",
    "        \n",
    "    else:\n",
    "        print(\"Pівність середніх підтверджена\")\n",
    "    \n",
    "    \n",
    "    indexes = [\"SSфакт\", \"SSзаг\", \"SSвип\", \"dфакт\", \"dзаг\", \"dвип\", \"MSфакт\", \"MSвип\", \"Fемпір\", \"Fкрит\"]\n",
    "    \n",
    "    new__dataset = pd.DataFrame({\n",
    "        \"Обчислене значення\" : [ str(round(SSfact,2)) , str(round(SSzag,2)) ,str(round(SSvip,2)),str(dfact),str(dzag), str(dvip), str(round(MSfact,2)),str(round(MSvip,2)),str(round(Femp,2)), str(Fkrit)]},\n",
    "        index = indexes\n",
    "    )\n",
    "    \n",
    "    new__dataset.columns.name = \"Характеристика\"\n",
    "    \n",
    "    return new__dataset"
   ]
  },
  {
   "cell_type": "markdown",
   "metadata": {},
   "source": [
    "5. Перевірити результат роботи функції на реальних або сгенерованих даних. Зробити висновок."
   ]
  },
  {
   "cell_type": "code",
   "execution_count": 18,
   "metadata": {
    "scrolled": false
   },
   "outputs": [
    {
     "name": "stdout",
     "output_type": "stream",
     "text": [
      "Pівність середніх не підтверджена\n"
     ]
    },
    {
     "data": {
      "text/html": [
       "<div>\n",
       "<style scoped>\n",
       "    .dataframe tbody tr th:only-of-type {\n",
       "        vertical-align: middle;\n",
       "    }\n",
       "\n",
       "    .dataframe tbody tr th {\n",
       "        vertical-align: top;\n",
       "    }\n",
       "\n",
       "    .dataframe thead th {\n",
       "        text-align: right;\n",
       "    }\n",
       "</style>\n",
       "<table border=\"1\" class=\"dataframe\">\n",
       "  <thead>\n",
       "    <tr style=\"text-align: right;\">\n",
       "      <th>Характеристика</th>\n",
       "      <th>Обчислене значення</th>\n",
       "    </tr>\n",
       "  </thead>\n",
       "  <tbody>\n",
       "    <tr>\n",
       "      <th>SSфакт</th>\n",
       "      <td>13052.67</td>\n",
       "    </tr>\n",
       "    <tr>\n",
       "      <th>SSзаг</th>\n",
       "      <td>23572.95</td>\n",
       "    </tr>\n",
       "    <tr>\n",
       "      <th>SSвип</th>\n",
       "      <td>10520.29</td>\n",
       "    </tr>\n",
       "    <tr>\n",
       "      <th>dфакт</th>\n",
       "      <td>2</td>\n",
       "    </tr>\n",
       "    <tr>\n",
       "      <th>dзаг</th>\n",
       "      <td>20</td>\n",
       "    </tr>\n",
       "    <tr>\n",
       "      <th>dвип</th>\n",
       "      <td>18</td>\n",
       "    </tr>\n",
       "    <tr>\n",
       "      <th>MSфакт</th>\n",
       "      <td>6526.33</td>\n",
       "    </tr>\n",
       "    <tr>\n",
       "      <th>MSвип</th>\n",
       "      <td>584.46</td>\n",
       "    </tr>\n",
       "    <tr>\n",
       "      <th>Fемпір</th>\n",
       "      <td>11.17</td>\n",
       "    </tr>\n",
       "    <tr>\n",
       "      <th>Fкрит</th>\n",
       "      <td>3.5</td>\n",
       "    </tr>\n",
       "  </tbody>\n",
       "</table>\n",
       "</div>"
      ],
      "text/plain": [
       "Характеристика Обчислене значення\n",
       "SSфакт                   13052.67\n",
       "SSзаг                    23572.95\n",
       "SSвип                    10520.29\n",
       "dфакт                           2\n",
       "dзаг                           20\n",
       "dвип                           18\n",
       "MSфакт                    6526.33\n",
       "MSвип                      584.46\n",
       "Fемпір                      11.17\n",
       "Fкрит                         3.5"
      ]
     },
     "execution_count": 18,
     "metadata": {},
     "output_type": "execute_result"
    }
   ],
   "source": [
    "dispersia(dataset)"
   ]
  },
  {
   "cell_type": "code",
   "execution_count": null,
   "metadata": {},
   "outputs": [],
   "source": []
  }
 ],
 "metadata": {
  "colab": {
   "authorship_tag": "ABX9TyPz43bweI3Rw31Fk91MPGuX",
   "collapsed_sections": [],
   "name": "КП8.ipynb",
   "provenance": []
  },
  "kernelspec": {
   "display_name": "Python 3",
   "language": "python",
   "name": "python3"
  },
  "language_info": {
   "codemirror_mode": {
    "name": "ipython",
    "version": 3
   },
   "file_extension": ".py",
   "mimetype": "text/x-python",
   "name": "python",
   "nbconvert_exporter": "python",
   "pygments_lexer": "ipython3",
   "version": "3.7.4"
  }
 },
 "nbformat": 4,
 "nbformat_minor": 1
}
